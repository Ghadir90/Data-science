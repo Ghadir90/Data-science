{
  "metadata": {
    "language_info": {
      "name": ""
    },
    "kernelspec": {
      "name": "python",
      "display_name": "Python (Pyodide)",
      "language": "python"
    }
  },
  "nbformat_minor": 4,
  "nbformat": 4,
  "cells": [
    {
      "cell_type": "markdown",
      "source": "# Data science\n***",
      "metadata": {}
    },
    {
      "cell_type": "markdown",
      "source": "## Introduction\nata Science is a combination of multiple disciplines that uses statistics, data analysis, and machine learning to analyze data and to extract knowledge and insights from it.",
      "metadata": {}
    },
    {
      "cell_type": "markdown",
      "source": "### Data science languages\n* Python.\n* R.\n* SQL.",
      "metadata": {}
    },
    {
      "cell_type": "markdown",
      "source": "### Data science libraries\n* TensorFlow\n* NumPy\n* SciPy \n* Pandas\n* PyTorch",
      "metadata": {}
    },
    {
      "cell_type": "markdown",
      "source": "### Data Science tools\n|  Tools          |        Description                  |\n|-----------------|-------------------------------------|\n|    SAS          |  Closed source proprietary software |\n| Apache Spark    |  Stream Processing                  |\n|    BigML        |  Machine Learning Algorithms        |",
      "metadata": {}
    },
    {
      "cell_type": "markdown",
      "source": "### Arithmetic expression examples",
      "metadata": {}
    },
    {
      "cell_type": "markdown",
      "source": "7 - 6 + 2 = 1 + 2 = 3. 7 - (6 + 2) = 7-8 = -1",
      "metadata": {}
    },
    {
      "cell_type": "markdown",
      "source": "### Multiply and add numbers",
      "metadata": {}
    },
    {
      "cell_type": "code",
      "source": "a = 3\nb = 5 \nc = a * b\nprint(c)",
      "metadata": {
        "trusted": true
      },
      "execution_count": null,
      "outputs": []
    },
    {
      "cell_type": "code",
      "source": "a = 3\nb = 5 \nc = a + b\nprint(c)",
      "metadata": {
        "trusted": true
      },
      "execution_count": null,
      "outputs": []
    },
    {
      "cell_type": "markdown",
      "source": "### Convert minutes to hours",
      "metadata": {}
    },
    {
      "cell_type": "code",
      "source": "import time \nminutes = time ()\nhours = // 3600 \nprint(hours)",
      "metadata": {
        "trusted": true
      },
      "execution_count": null,
      "outputs": []
    },
    {
      "cell_type": "markdown",
      "source": "### List Objectives\n1. Explore megadata. \n2. Sort megadata. \n3. Analyze megadata.\n4. Optimize business processes or for decision support. ",
      "metadata": {}
    },
    {
      "cell_type": "markdown",
      "source": "### Author’s name\nGhadir Abdullah",
      "metadata": {}
    },
    {
      "cell_type": "code",
      "source": "",
      "metadata": {},
      "execution_count": null,
      "outputs": []
    }
  ]
}